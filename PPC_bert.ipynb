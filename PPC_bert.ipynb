{
 "cells": [
  {
   "cell_type": "markdown",
   "id": "a4582819",
   "metadata": {},
   "source": [
    "## 1. Data Preparation\n"
   ]
  },
  {
   "cell_type": "code",
   "execution_count": 1,
   "id": "dcb9ad76",
   "metadata": {
    "execution": {
     "iopub.execute_input": "2025-06-21T03:31:46.801344Z",
     "iopub.status.busy": "2025-06-21T03:31:46.800936Z",
     "iopub.status.idle": "2025-06-21T03:31:49.404373Z",
     "shell.execute_reply": "2025-06-21T03:31:49.403850Z",
     "shell.execute_reply.started": "2025-06-21T03:31:46.801305Z"
    },
    "tags": []
   },
   "outputs": [],
   "source": [
    "import torch\n",
    "from transformers import BertTokenizer\n",
    "from sklearn.model_selection import train_test_split\n",
    "from datasets import Dataset"
   ]
  },
  {
   "cell_type": "code",
   "execution_count": null,
   "id": "40b36783",
   "metadata": {
    "execution": {
     "iopub.execute_input": "2025-06-21T03:31:49.405770Z",
     "iopub.status.busy": "2025-06-21T03:31:49.405535Z",
     "iopub.status.idle": "2025-06-21T03:31:55.662886Z",
     "shell.execute_reply": "2025-06-21T03:31:55.662107Z",
     "shell.execute_reply.started": "2025-06-21T03:31:49.405751Z"
    },
    "tags": []
   },
   "outputs": [
    {
     "data": {
      "application/vnd.jupyter.widget-view+json": {
       "model_id": "19d7cdda60964bd68afca24ba00190ae",
       "version_major": 2,
       "version_minor": 0
      },
      "text/plain": [
       "Map:   0%|          | 0/32777 [00:00<?, ? examples/s]"
      ]
     },
     "metadata": {},
     "output_type": "display_data"
    },
    {
     "name": "stdout",
     "output_type": "stream",
     "text": [
      "Train Dataset Sample: {'input_ids': tensor([  101,  2038,  1996,  3653,  6916,  4355,  2293,  1011,  2774,  2005,\n",
      "        29229,  1025,  2061,  2302,   102,     0,     0,     0,     0,     0,\n",
      "            0,     0,     0,     0,     0,     0,     0,     0,     0,     0,\n",
      "            0,     0,     0,     0,     0,     0,     0,     0,     0,     0,\n",
      "            0,     0,     0,     0,     0,     0,     0,     0,     0,     0,\n",
      "            0,     0,     0,     0,     0,     0,     0,     0,     0,     0,\n",
      "            0,     0,     0,     0]), 'token_type_ids': tensor([0, 0, 0, 0, 0, 0, 0, 0, 0, 0, 0, 0, 0, 0, 0, 0, 0, 0, 0, 0, 0, 0, 0, 0,\n",
      "        0, 0, 0, 0, 0, 0, 0, 0, 0, 0, 0, 0, 0, 0, 0, 0, 0, 0, 0, 0, 0, 0, 0, 0,\n",
      "        0, 0, 0, 0, 0, 0, 0, 0, 0, 0, 0, 0, 0, 0, 0, 0]), 'attention_mask': tensor([1, 1, 1, 1, 1, 1, 1, 1, 1, 1, 1, 1, 1, 1, 1, 0, 0, 0, 0, 0, 0, 0, 0, 0,\n",
      "        0, 0, 0, 0, 0, 0, 0, 0, 0, 0, 0, 0, 0, 0, 0, 0, 0, 0, 0, 0, 0, 0, 0, 0,\n",
      "        0, 0, 0, 0, 0, 0, 0, 0, 0, 0, 0, 0, 0, 0, 0, 0])}\n",
      "Test Dataset Sample: {'input_ids': tensor([  101,  2004,  2092,  2004,  4572,  1997,  2605,  1010,  2030,  1996,\n",
      "         4656,  1997, 13283,  1010,   102,     0,     0,     0,     0,     0,\n",
      "            0,     0,     0,     0,     0,     0,     0,     0,     0,     0,\n",
      "            0,     0,     0,     0,     0,     0,     0,     0,     0,     0,\n",
      "            0,     0,     0,     0,     0,     0,     0,     0,     0,     0,\n",
      "            0,     0,     0,     0,     0,     0,     0,     0,     0,     0,\n",
      "            0,     0,     0,     0]), 'token_type_ids': tensor([0, 0, 0, 0, 0, 0, 0, 0, 0, 0, 0, 0, 0, 0, 0, 0, 0, 0, 0, 0, 0, 0, 0, 0,\n",
      "        0, 0, 0, 0, 0, 0, 0, 0, 0, 0, 0, 0, 0, 0, 0, 0, 0, 0, 0, 0, 0, 0, 0, 0,\n",
      "        0, 0, 0, 0, 0, 0, 0, 0, 0, 0, 0, 0, 0, 0, 0, 0]), 'attention_mask': tensor([1, 1, 1, 1, 1, 1, 1, 1, 1, 1, 1, 1, 1, 1, 1, 0, 0, 0, 0, 0, 0, 0, 0, 0,\n",
      "        0, 0, 0, 0, 0, 0, 0, 0, 0, 0, 0, 0, 0, 0, 0, 0, 0, 0, 0, 0, 0, 0, 0, 0,\n",
      "        0, 0, 0, 0, 0, 0, 0, 0, 0, 0, 0, 0, 0, 0, 0, 0])}\n"
     ]
    }
   ],
   "source": [
    "# Step 1: 读取上传的文本文件\n",
    "file_path = \"tinyshakespeare.txt\"\n",
    "with open(file_path, 'r', encoding='utf-8') as f:\n",
    "    text = f.read()\n",
    "\n",
    "# Step 2: 将文本按行分割成句子或段落\n",
    "data = text.strip().split('\\n')\n",
    "data = [line for line in data if len(line.strip()) > 0]  # 清除空行\n",
    "\n",
    "# Step 3: 转换为 HuggingFace 数据集对象\n",
    "dataset = Dataset.from_dict({'text': data})\n",
    "\n",
    "# Step 4: 初始化 BERT 分词器\n",
    "from transformers import BertTokenizer\n",
    "\n",
    "tokenizer = BertTokenizer.from_pretrained(\"local_bert_base_uncased\")\n",
    "\n",
    "# Step 5: 编码函数（不重命名 input_ids！）\n",
    "def preprocess_function(examples):\n",
    "    return tokenizer(\n",
    "        examples['text'],\n",
    "        truncation=True,\n",
    "        padding='max_length',\n",
    "        max_length=64\n",
    "    )\n",
    "\n",
    "# Step 6: 批量处理数据\n",
    "tokenized_datasets = dataset.map(preprocess_function, batched=True)\n",
    "\n",
    "# Step 7: 拆分训练集和测试集\n",
    "split_dataset = tokenized_datasets.train_test_split(test_size=0.2)\n",
    "train_dataset = split_dataset[\"train\"]\n",
    "test_dataset = split_dataset[\"test\"]\n",
    "\n",
    "# Step 8: 设置 PyTorch 数据格式（保留 input_ids！）\n",
    "train_dataset.set_format(type=\"torch\", columns=[\"input_ids\", \"attention_mask\", \"token_type_ids\"])\n",
    "test_dataset.set_format(type=\"torch\", columns=[\"input_ids\", \"attention_mask\", \"token_type_ids\"])\n",
    "\n",
    "# Step 9: 打印示例验证\n",
    "print(f\"Train Dataset Sample: {train_dataset[0]}\")\n",
    "print(f\"Test Dataset Sample: {test_dataset[0]}\")\n",
    "\n"
   ]
  },
  {
   "cell_type": "code",
   "execution_count": 3,
   "id": "2dddb996",
   "metadata": {
    "execution": {
     "iopub.execute_input": "2025-06-21T03:31:55.663969Z",
     "iopub.status.busy": "2025-06-21T03:31:55.663806Z",
     "iopub.status.idle": "2025-06-21T03:31:55.668610Z",
     "shell.execute_reply": "2025-06-21T03:31:55.667879Z",
     "shell.execute_reply.started": "2025-06-21T03:31:55.663951Z"
    },
    "tags": []
   },
   "outputs": [],
   "source": [
    "import torch.nn as nn\n",
    "\n",
    "class PPCMaskedLanguageModel(nn.Module):\n",
    "    def __init__(self, encoder, vocab_size, d_model):\n",
    "        super().__init__()\n",
    "        self.embedding = nn.Embedding(vocab_size, d_model)\n",
    "        self.encoder = encoder\n",
    "        self.lm_head = nn.Linear(d_model, vocab_size)\n",
    "\n",
    "    def forward(self, input_ids, attention_mask):\n",
    "        # input_ids: (batch_size, seq_len)\n",
    "        embedded = self.embedding(input_ids).transpose(0, 1)  # (seq_len, batch_size, d_model)\n",
    "        encoded = self.encoder(embedded, src_key_padding_mask=~attention_mask.bool())  # (seq_len, batch, d_model)\n",
    "        encoded = encoded.transpose(0, 1)  # (batch_size, seq_len, d_model)\n",
    "        logits = self.lm_head(encoded)     # (batch_size, seq_len, vocab_size)\n",
    "        return logits\n"
   ]
  },
  {
   "cell_type": "code",
   "execution_count": 4,
   "id": "7c43e267",
   "metadata": {
    "execution": {
     "iopub.execute_input": "2025-06-21T03:31:55.669565Z",
     "iopub.status.busy": "2025-06-21T03:31:55.669415Z",
     "iopub.status.idle": "2025-06-21T03:31:55.684102Z",
     "shell.execute_reply": "2025-06-21T03:31:55.683495Z",
     "shell.execute_reply.started": "2025-06-21T03:31:55.669550Z"
    },
    "tags": []
   },
   "outputs": [],
   "source": [
    "from transformers import DataCollatorForLanguageModeling\n",
    "\n",
    "data_collator = DataCollatorForLanguageModeling(\n",
    "    tokenizer=tokenizer,\n",
    "    mlm=True,\n",
    "    mlm_probability=0.15\n",
    ")\n"
   ]
  },
  {
   "cell_type": "code",
   "execution_count": 5,
   "id": "e443dba2",
   "metadata": {
    "execution": {
     "iopub.execute_input": "2025-06-21T03:31:55.684877Z",
     "iopub.status.busy": "2025-06-21T03:31:55.684730Z",
     "iopub.status.idle": "2025-06-21T03:31:55.688444Z",
     "shell.execute_reply": "2025-06-21T03:31:55.687835Z",
     "shell.execute_reply.started": "2025-06-21T03:31:55.684861Z"
    },
    "tags": []
   },
   "outputs": [],
   "source": [
    "from torch.utils.data import DataLoader\n",
    "\n",
    "batch_size = 32\n",
    "\n",
    "train_dataloader = DataLoader(train_dataset, shuffle=True, batch_size=batch_size, collate_fn=data_collator)\n",
    "test_dataloader = DataLoader(test_dataset, batch_size=batch_size, collate_fn=data_collator)\n"
   ]
  },
  {
   "cell_type": "code",
   "execution_count": 6,
   "id": "af7120a6",
   "metadata": {
    "execution": {
     "iopub.execute_input": "2025-06-21T03:31:55.689369Z",
     "iopub.status.busy": "2025-06-21T03:31:55.689208Z",
     "iopub.status.idle": "2025-06-21T03:31:56.154247Z",
     "shell.execute_reply": "2025-06-21T03:31:56.153633Z",
     "shell.execute_reply.started": "2025-06-21T03:31:55.689354Z"
    },
    "tags": []
   },
   "outputs": [],
   "source": [
    "from PPC_transformer_encoder import PPCTransformerEncoderLayer, PPCTransformerEncoder\n",
    "import torch\n",
    "\n",
    "d_model = 256\n",
    "nhead = 2\n",
    "dim_feedforward = 512\n",
    "dropout = 0.1\n",
    "num_layers = 3\n",
    "r_max_scale = 0.3\n",
    "\n",
    "vocab_size = tokenizer.vocab_size\n",
    "\n",
    "device = torch.device(\"cuda\" if torch.cuda.is_available() else \"cpu\")\n",
    "\n",
    "encoder_layer = PPCTransformerEncoderLayer(d_model, nhead, dim_feedforward, dropout, r_max_scale=  r_max_scale)\n",
    "encoder = PPCTransformerEncoder(encoder_layer, num_layers=num_layers)\n",
    "\n",
    "model = PPCMaskedLanguageModel(encoder, vocab_size=vocab_size, d_model=d_model).to(device)"
   ]
  },
  {
   "cell_type": "code",
   "execution_count": 7,
   "id": "bde96eae",
   "metadata": {
    "execution": {
     "iopub.execute_input": "2025-06-21T03:31:56.155798Z",
     "iopub.status.busy": "2025-06-21T03:31:56.155600Z",
     "iopub.status.idle": "2025-06-21T03:31:56.726155Z",
     "shell.execute_reply": "2025-06-21T03:31:56.725554Z",
     "shell.execute_reply.started": "2025-06-21T03:31:56.155779Z"
    },
    "tags": []
   },
   "outputs": [],
   "source": [
    "from torch.optim import AdamW\n",
    "from transformers import get_linear_schedule_with_warmup\n",
    "from tqdm import tqdm\n",
    "import torch.nn as nn\n",
    "\n",
    "# 优化器\n",
    "optimizer = AdamW(model.parameters(), lr=5e-4)\n",
    "\n",
    "# 损失函数\n",
    "criterion = nn.CrossEntropyLoss(ignore_index=-100)\n",
    "\n",
    "# 超参数\n",
    "num_epochs = 30\n",
    "total_steps = len(train_dataloader) * num_epochs\n",
    "warmup_steps = int(0.1 * total_steps)  # warmup 10% 步数\n",
    "\n",
    "# 调度器\n",
    "scheduler = get_linear_schedule_with_warmup(\n",
    "    optimizer,\n",
    "    num_warmup_steps=warmup_steps,\n",
    "    num_training_steps=total_steps\n",
    ")\n"
   ]
  },
  {
   "cell_type": "code",
   "execution_count": 8,
   "id": "4ec3c045",
   "metadata": {
    "execution": {
     "iopub.execute_input": "2025-06-21T03:31:56.727210Z",
     "iopub.status.busy": "2025-06-21T03:31:56.726920Z",
     "iopub.status.idle": "2025-06-21T03:40:54.594770Z",
     "shell.execute_reply": "2025-06-21T03:40:54.594201Z",
     "shell.execute_reply.started": "2025-06-21T03:31:56.727189Z"
    },
    "tags": []
   },
   "outputs": [
    {
     "name": "stderr",
     "output_type": "stream",
     "text": [
      "Epoch 1: 100%|██████████| 820/820 [00:17<00:00, 47.02it/s, loss=6.99]\n"
     ]
    },
    {
     "name": "stdout",
     "output_type": "stream",
     "text": [
      "\n",
      "Epoch 1 Average Loss: 7.7450\n",
      "Epoch 1 Test Accuracy: 8.67%\n"
     ]
    },
    {
     "name": "stderr",
     "output_type": "stream",
     "text": [
      "Epoch 2: 100%|██████████| 820/820 [00:18<00:00, 44.13it/s, loss=5.75]\n"
     ]
    },
    {
     "name": "stdout",
     "output_type": "stream",
     "text": [
      "\n",
      "Epoch 2 Average Loss: 6.3249\n",
      "Epoch 2 Test Accuracy: 11.86%\n"
     ]
    },
    {
     "name": "stderr",
     "output_type": "stream",
     "text": [
      "Epoch 3: 100%|██████████| 820/820 [00:17<00:00, 47.27it/s, loss=5.09]\n"
     ]
    },
    {
     "name": "stdout",
     "output_type": "stream",
     "text": [
      "\n",
      "Epoch 3 Average Loss: 6.0103\n",
      "Epoch 3 Test Accuracy: 14.11%\n"
     ]
    },
    {
     "name": "stderr",
     "output_type": "stream",
     "text": [
      "Epoch 4: 100%|██████████| 820/820 [00:17<00:00, 47.46it/s, loss=4.95]\n"
     ]
    },
    {
     "name": "stdout",
     "output_type": "stream",
     "text": [
      "\n",
      "Epoch 4 Average Loss: 5.7631\n",
      "Epoch 4 Test Accuracy: 17.46%\n"
     ]
    },
    {
     "name": "stderr",
     "output_type": "stream",
     "text": [
      "Epoch 5: 100%|██████████| 820/820 [00:15<00:00, 54.24it/s, loss=5.34]\n"
     ]
    },
    {
     "name": "stdout",
     "output_type": "stream",
     "text": [
      "\n",
      "Epoch 5 Average Loss: 5.5924\n",
      "Epoch 5 Test Accuracy: 19.00%\n"
     ]
    },
    {
     "name": "stderr",
     "output_type": "stream",
     "text": [
      "Epoch 6: 100%|██████████| 820/820 [00:14<00:00, 54.98it/s, loss=5.99]\n"
     ]
    },
    {
     "name": "stdout",
     "output_type": "stream",
     "text": [
      "\n",
      "Epoch 6 Average Loss: 5.4861\n",
      "Epoch 6 Test Accuracy: 19.43%\n"
     ]
    },
    {
     "name": "stderr",
     "output_type": "stream",
     "text": [
      "Epoch 7: 100%|██████████| 820/820 [00:17<00:00, 46.21it/s, loss=5.94]\n"
     ]
    },
    {
     "name": "stdout",
     "output_type": "stream",
     "text": [
      "\n",
      "Epoch 7 Average Loss: 5.3726\n",
      "Epoch 7 Test Accuracy: 19.54%\n"
     ]
    },
    {
     "name": "stderr",
     "output_type": "stream",
     "text": [
      "Epoch 8: 100%|██████████| 820/820 [00:20<00:00, 40.97it/s, loss=5.25]\n"
     ]
    },
    {
     "name": "stdout",
     "output_type": "stream",
     "text": [
      "\n",
      "Epoch 8 Average Loss: 5.3131\n",
      "Epoch 8 Test Accuracy: 20.40%\n"
     ]
    },
    {
     "name": "stderr",
     "output_type": "stream",
     "text": [
      "Epoch 9: 100%|██████████| 820/820 [00:17<00:00, 46.18it/s, loss=4.84]\n"
     ]
    },
    {
     "name": "stdout",
     "output_type": "stream",
     "text": [
      "\n",
      "Epoch 9 Average Loss: 5.2395\n",
      "Epoch 9 Test Accuracy: 20.84%\n"
     ]
    },
    {
     "name": "stderr",
     "output_type": "stream",
     "text": [
      "Epoch 10: 100%|██████████| 820/820 [00:15<00:00, 54.66it/s, loss=5.84]\n"
     ]
    },
    {
     "name": "stdout",
     "output_type": "stream",
     "text": [
      "\n",
      "Epoch 10 Average Loss: 5.1961\n",
      "Epoch 10 Test Accuracy: 21.42%\n"
     ]
    },
    {
     "name": "stderr",
     "output_type": "stream",
     "text": [
      "Epoch 11: 100%|██████████| 820/820 [00:15<00:00, 54.03it/s, loss=4.96]\n"
     ]
    },
    {
     "name": "stdout",
     "output_type": "stream",
     "text": [
      "\n",
      "Epoch 11 Average Loss: 5.1465\n",
      "Epoch 11 Test Accuracy: 21.19%\n"
     ]
    },
    {
     "name": "stderr",
     "output_type": "stream",
     "text": [
      "Epoch 12: 100%|██████████| 820/820 [00:20<00:00, 40.65it/s, loss=4.88]\n"
     ]
    },
    {
     "name": "stdout",
     "output_type": "stream",
     "text": [
      "\n",
      "Epoch 12 Average Loss: 5.1186\n",
      "Epoch 12 Test Accuracy: 21.73%\n"
     ]
    },
    {
     "name": "stderr",
     "output_type": "stream",
     "text": [
      "Epoch 13: 100%|██████████| 820/820 [00:18<00:00, 45.43it/s, loss=5.72]\n"
     ]
    },
    {
     "name": "stdout",
     "output_type": "stream",
     "text": [
      "\n",
      "Epoch 13 Average Loss: 5.0350\n",
      "Epoch 13 Test Accuracy: 21.19%\n"
     ]
    },
    {
     "name": "stderr",
     "output_type": "stream",
     "text": [
      "Epoch 14: 100%|██████████| 820/820 [00:15<00:00, 53.78it/s, loss=4.72]\n"
     ]
    },
    {
     "name": "stdout",
     "output_type": "stream",
     "text": [
      "\n",
      "Epoch 14 Average Loss: 4.9888\n",
      "Epoch 14 Test Accuracy: 21.42%\n"
     ]
    },
    {
     "name": "stderr",
     "output_type": "stream",
     "text": [
      "Epoch 15: 100%|██████████| 820/820 [00:15<00:00, 54.46it/s, loss=5.32]\n"
     ]
    },
    {
     "name": "stdout",
     "output_type": "stream",
     "text": [
      "\n",
      "Epoch 15 Average Loss: 4.9538\n",
      "Epoch 15 Test Accuracy: 21.97%\n"
     ]
    },
    {
     "name": "stderr",
     "output_type": "stream",
     "text": [
      "Epoch 16: 100%|██████████| 820/820 [00:15<00:00, 53.31it/s, loss=4.36]\n"
     ]
    },
    {
     "name": "stdout",
     "output_type": "stream",
     "text": [
      "\n",
      "Epoch 16 Average Loss: 4.9546\n",
      "Epoch 16 Test Accuracy: 21.38%\n"
     ]
    },
    {
     "name": "stderr",
     "output_type": "stream",
     "text": [
      "Epoch 17: 100%|██████████| 820/820 [00:15<00:00, 53.98it/s, loss=5.53]\n"
     ]
    },
    {
     "name": "stdout",
     "output_type": "stream",
     "text": [
      "\n",
      "Epoch 17 Average Loss: 4.8864\n",
      "Epoch 17 Test Accuracy: 21.86%\n"
     ]
    },
    {
     "name": "stderr",
     "output_type": "stream",
     "text": [
      "Epoch 18: 100%|██████████| 820/820 [00:15<00:00, 54.03it/s, loss=3.72]\n"
     ]
    },
    {
     "name": "stdout",
     "output_type": "stream",
     "text": [
      "\n",
      "Epoch 18 Average Loss: 4.8525\n",
      "Epoch 18 Test Accuracy: 21.65%\n"
     ]
    },
    {
     "name": "stderr",
     "output_type": "stream",
     "text": [
      "Epoch 19: 100%|██████████| 820/820 [00:15<00:00, 54.44it/s, loss=5.82]\n"
     ]
    },
    {
     "name": "stdout",
     "output_type": "stream",
     "text": [
      "\n",
      "Epoch 19 Average Loss: 4.8205\n",
      "Epoch 19 Test Accuracy: 22.04%\n"
     ]
    },
    {
     "name": "stderr",
     "output_type": "stream",
     "text": [
      "Epoch 20: 100%|██████████| 820/820 [00:15<00:00, 53.98it/s, loss=5.04]\n"
     ]
    },
    {
     "name": "stdout",
     "output_type": "stream",
     "text": [
      "\n",
      "Epoch 20 Average Loss: 4.7932\n",
      "Epoch 20 Test Accuracy: 22.95%\n"
     ]
    },
    {
     "name": "stderr",
     "output_type": "stream",
     "text": [
      "Epoch 21: 100%|██████████| 820/820 [00:15<00:00, 53.97it/s, loss=4.8] \n"
     ]
    },
    {
     "name": "stdout",
     "output_type": "stream",
     "text": [
      "\n",
      "Epoch 21 Average Loss: 4.7218\n",
      "Epoch 21 Test Accuracy: 22.49%\n"
     ]
    },
    {
     "name": "stderr",
     "output_type": "stream",
     "text": [
      "Epoch 22: 100%|██████████| 820/820 [00:16<00:00, 50.66it/s, loss=5.2] \n"
     ]
    },
    {
     "name": "stdout",
     "output_type": "stream",
     "text": [
      "\n",
      "Epoch 22 Average Loss: 4.7241\n",
      "Epoch 22 Test Accuracy: 22.27%\n"
     ]
    },
    {
     "name": "stderr",
     "output_type": "stream",
     "text": [
      "Epoch 23: 100%|██████████| 820/820 [00:15<00:00, 51.81it/s, loss=4.86]\n"
     ]
    },
    {
     "name": "stdout",
     "output_type": "stream",
     "text": [
      "\n",
      "Epoch 23 Average Loss: 4.6700\n",
      "Epoch 23 Test Accuracy: 22.17%\n"
     ]
    },
    {
     "name": "stderr",
     "output_type": "stream",
     "text": [
      "Epoch 24: 100%|██████████| 820/820 [00:15<00:00, 52.78it/s, loss=4.98]\n"
     ]
    },
    {
     "name": "stdout",
     "output_type": "stream",
     "text": [
      "\n",
      "Epoch 24 Average Loss: 4.6602\n",
      "Epoch 24 Test Accuracy: 23.08%\n"
     ]
    },
    {
     "name": "stderr",
     "output_type": "stream",
     "text": [
      "Epoch 25: 100%|██████████| 820/820 [00:17<00:00, 48.12it/s, loss=5.26]\n"
     ]
    },
    {
     "name": "stdout",
     "output_type": "stream",
     "text": [
      "\n",
      "Epoch 25 Average Loss: 4.6231\n",
      "Epoch 25 Test Accuracy: 23.47%\n"
     ]
    },
    {
     "name": "stderr",
     "output_type": "stream",
     "text": [
      "Epoch 26: 100%|██████████| 820/820 [00:19<00:00, 43.12it/s, loss=4.73]\n"
     ]
    },
    {
     "name": "stdout",
     "output_type": "stream",
     "text": [
      "\n",
      "Epoch 26 Average Loss: 4.6095\n",
      "Epoch 26 Test Accuracy: 22.85%\n"
     ]
    },
    {
     "name": "stderr",
     "output_type": "stream",
     "text": [
      "Epoch 27: 100%|██████████| 820/820 [00:17<00:00, 47.93it/s, loss=4.88]\n"
     ]
    },
    {
     "name": "stdout",
     "output_type": "stream",
     "text": [
      "\n",
      "Epoch 27 Average Loss: 4.5655\n",
      "Epoch 27 Test Accuracy: 22.96%\n"
     ]
    },
    {
     "name": "stderr",
     "output_type": "stream",
     "text": [
      "Epoch 28: 100%|██████████| 820/820 [00:15<00:00, 53.60it/s, loss=4.06]\n"
     ]
    },
    {
     "name": "stdout",
     "output_type": "stream",
     "text": [
      "\n",
      "Epoch 28 Average Loss: 4.5655\n",
      "Epoch 28 Test Accuracy: 22.75%\n"
     ]
    },
    {
     "name": "stderr",
     "output_type": "stream",
     "text": [
      "Epoch 29: 100%|██████████| 820/820 [00:15<00:00, 53.91it/s, loss=4.1] \n"
     ]
    },
    {
     "name": "stdout",
     "output_type": "stream",
     "text": [
      "\n",
      "Epoch 29 Average Loss: 4.5571\n",
      "Epoch 29 Test Accuracy: 22.46%\n"
     ]
    },
    {
     "name": "stderr",
     "output_type": "stream",
     "text": [
      "Epoch 30: 100%|██████████| 820/820 [00:15<00:00, 53.03it/s, loss=5.52]\n"
     ]
    },
    {
     "name": "stdout",
     "output_type": "stream",
     "text": [
      "\n",
      "Epoch 30 Average Loss: 4.5312\n",
      "Epoch 30 Test Accuracy: 22.81%\n"
     ]
    }
   ],
   "source": [
    "from torch.utils.tensorboard import SummaryWriter\n",
    "from PPC_linear import unorthogonality_decay_all\n",
    "import gc\n",
    "\n",
    "writer = SummaryWriter(log_dir='./tf_dir/exp1')\n",
    "\n",
    "global_step = 0\n",
    "\n",
    "for epoch in range(num_epochs):\n",
    "    model.train()\n",
    "    total_loss = 0\n",
    "\n",
    "    progress_bar = tqdm(train_dataloader, desc=f\"Epoch {epoch+1}\", leave=True)\n",
    "\n",
    "    for batch in progress_bar:\n",
    "        input_ids = batch['input_ids'].to(device)\n",
    "        attention_mask = batch['attention_mask'].to(device)\n",
    "        labels = batch['labels'].to(device)\n",
    "\n",
    "        optimizer.zero_grad()\n",
    "        logits = model(input_ids=input_ids, attention_mask=attention_mask)\n",
    "        loss = criterion(logits.view(-1, vocab_size), labels.view(-1))\n",
    "        # 应用正则化\n",
    "        unorthogonality_decay_all(model, decay_rate=0.01)\n",
    "        loss.backward()\n",
    "        optimizer.step()\n",
    "        scheduler.step()\n",
    "\n",
    "        loss_val = loss.item()\n",
    "        total_loss += loss_val\n",
    "        writer.add_scalar('Loss/train_batch', loss_val, global_step)\n",
    "        writer.add_scalar('LearningRate/train_batch', optimizer.param_groups[0]['lr'], global_step)\n",
    "        progress_bar.set_postfix(loss=loss_val)\n",
    "        global_step += 1\n",
    "\n",
    "    avg_loss = total_loss / len(train_dataloader)\n",
    "    print(f\"\\nEpoch {epoch+1} Average Loss: {avg_loss:.4f}\")\n",
    "    writer.add_scalar('Loss/train_epoch', avg_loss, epoch)\n",
    "\n",
    "    # === 每个 epoch 后进行一次 evaluation ===\n",
    "    model.eval()\n",
    "    total = 0\n",
    "    correct = 0\n",
    "\n",
    "    with torch.no_grad():\n",
    "        for batch in test_dataloader:\n",
    "            input_ids = batch['input_ids'].to(device)\n",
    "            attention_mask = batch['attention_mask'].to(device)\n",
    "            labels = batch['labels'].to(device)\n",
    "\n",
    "            logits = model(input_ids, attention_mask)\n",
    "            predictions = torch.argmax(logits, dim=-1)\n",
    "\n",
    "            mask = labels != -100\n",
    "            correct += (predictions[mask] == labels[mask]).sum().item()\n",
    "            total += mask.sum().item()\n",
    "\n",
    "    accuracy = correct / total\n",
    "    print(f\"Epoch {epoch+1} Test Accuracy: {accuracy * 100:.2f}%\")\n",
    "    writer.add_scalar('Accuracy/test', accuracy, epoch)\n",
    "\n",
    "    # 显存和内存清理\n",
    "    torch.cuda.empty_cache()\n",
    "    torch.cuda.ipc_collect()\n",
    "    gc.collect()\n",
    "\n",
    "writer.close()\n"
   ]
  },
  {
   "cell_type": "code",
   "execution_count": 9,
   "id": "ce3174f6-116f-47e6-97a1-0911dfc0aaec",
   "metadata": {
    "execution": {
     "iopub.execute_input": "2025-06-21T03:40:54.595667Z",
     "iopub.status.busy": "2025-06-21T03:40:54.595458Z",
     "iopub.status.idle": "2025-06-21T03:40:54.599457Z",
     "shell.execute_reply": "2025-06-21T03:40:54.599050Z",
     "shell.execute_reply.started": "2025-06-21T03:40:54.595648Z"
    },
    "tags": []
   },
   "outputs": [
    {
     "name": "stdout",
     "output_type": "stream",
     "text": [
      "Total parameters: 16799490\n",
      "Trainable parameters: 16799490\n"
     ]
    }
   ],
   "source": [
    "# 统计参数总数\n",
    "total_params = sum(p.numel() for p in model.parameters())\n",
    "\n",
    "# 如果只想统计可训练的参数（排除冻结参数）\n",
    "trainable_params = sum(p.numel() for p in model.parameters() if p.requires_grad)\n",
    "\n",
    "print(f\"Total parameters: {total_params}\")\n",
    "print(f\"Trainable parameters: {trainable_params}\")\n"
   ]
  },
  {
   "cell_type": "code",
   "execution_count": null,
   "id": "8f9a9391-9243-4ebe-9577-0f1418bcb133",
   "metadata": {
    "execution": {
     "iopub.execute_input": "2025-06-21T03:42:48.800017Z",
     "iopub.status.busy": "2025-06-21T03:42:48.799685Z",
     "iopub.status.idle": "2025-06-21T03:42:48.878832Z",
     "shell.execute_reply": "2025-06-21T03:42:48.878322Z",
     "shell.execute_reply.started": "2025-06-21T03:42:48.799992Z"
    },
    "tags": []
   },
   "outputs": [],
   "source": [
    "torch.save(model.state_dict(), 'PPC_Bert_weights.pth')"
   ]
  },
  {
   "cell_type": "code",
   "execution_count": 19,
   "id": "c0c5f607-33c9-494e-b904-acf15be47ec4",
   "metadata": {
    "execution": {
     "iopub.execute_input": "2025-06-21T03:52:15.405820Z",
     "iopub.status.busy": "2025-06-21T03:52:15.405371Z",
     "iopub.status.idle": "2025-06-21T03:52:16.788670Z",
     "shell.execute_reply": "2025-06-21T03:52:16.788070Z",
     "shell.execute_reply.started": "2025-06-21T03:52:15.405779Z"
    },
    "tags": []
   },
   "outputs": [
    {
     "data": {
      "image/png": "[encoded data removed]",
      "text/plain": [
       "<Figure size 1000x600 with 1 Axes>"
      ]
     },
     "metadata": {},
     "output_type": "display_data"
    },
    {
     "data": {
      "image/png": "[encoded data removed]",
      "text/plain": [
       "<Figure size 1000x600 with 1 Axes>"
      ]
     },
     "metadata": {},
     "output_type": "display_data"
    }
   ],
   "source": [
    "import os\n",
    "import matplotlib.pyplot as plt\n",
    "from tensorboard.backend.event_processing import event_accumulator\n",
    "import numpy as np\n",
    "\n",
    "# 设置 TensorBoard 日志路径\n",
    "log_dir = './tf_dir/exp1'\n",
    "\n",
    "# 获取 event 文件\n",
    "event_files = [os.path.join(log_dir, f) for f in os.listdir(log_dir) if 'tfevents' in f]\n",
    "assert event_files, \"未找到 TensorBoard 的日志文件\"\n",
    "\n",
    "# 加载日志\n",
    "ea = event_accumulator.EventAccumulator(event_files[0])\n",
    "ea.Reload()\n",
    "\n",
    "# 选择要可视化的标签\n",
    "tags = ['Loss/train_batch', 'Accuracy/test']\n",
    "data = {}\n",
    "for tag in tags:\n",
    "    if tag in ea.Tags()['scalars']:\n",
    "        events = ea.Scalars(tag)\n",
    "        steps = [e.step for e in events]\n",
    "        values = [e.value for e in events]\n",
    "        data[tag] = (np.array(steps), np.array(values))\n",
    "    else:\n",
    "        print(f\"⚠️ 警告：未找到标签 {tag}\")\n",
    "\n",
    "# === 平滑函数：滑动平均 ===\n",
    "def smooth_curve(values, window_size=20):\n",
    "    if len(values) < window_size:\n",
    "        return values\n",
    "    return np.convolve(values, np.ones(window_size)/window_size, mode='valid')\n",
    "\n",
    "# === 单独画 Loss/train_batch ===\n",
    "if 'Loss/train_batch' in data:\n",
    "    steps, values = data['Loss/train_batch']\n",
    "    smoothed_values = smooth_curve(values, window_size=50)\n",
    "    smoothed_steps = steps[:len(smoothed_values)]\n",
    "\n",
    "    plt.figure(figsize=(10, 6))\n",
    "    plt.plot(steps, values, color='lightgray', label='Original', alpha=0.4)\n",
    "    plt.plot(smoothed_steps, smoothed_values, color='tab:red', label='Smoothed')\n",
    "    plt.title('Train Batch Loss (Smoothed)')\n",
    "    plt.xlabel('Step')\n",
    "    plt.ylabel('Loss')\n",
    "    plt.legend()\n",
    "    plt.tight_layout()\n",
    "    plt.show()\n",
    "\n",
    "# === 单独画 Accuracy/test ===\n",
    "if 'Accuracy/test' in data:\n",
    "    steps, values = data['Accuracy/test']\n",
    "\n",
    "    plt.figure(figsize=(10, 6))\n",
    "    plt.plot(steps, values, label='Test Accuracy', color='tab:blue')\n",
    "    plt.title('Test Accuracy')\n",
    "    plt.xlabel('Epoch')\n",
    "    plt.ylabel('Accuracy')\n",
    "    plt.legend()\n",
    "    plt.tight_layout()\n",
    "    plt.show()\n",
    "\n"
   ]
  }
 ],
 "metadata": {
  "kernelspec": {
   "display_name": "Python 3 (ipykernel)",
   "language": "python",
   "name": "python3"
  },
  "language_info": {
   "codemirror_mode": {
    "name": "ipython",
    "version": 3
   },
   "file_extension": ".py",
   "mimetype": "text/x-python",
   "name": "python",
   "nbconvert_exporter": "python",
   "pygments_lexer": "ipython3",
   "version": "3.10.16"
  }
 },
 "nbformat": 4,
 "nbformat_minor": 5
}
